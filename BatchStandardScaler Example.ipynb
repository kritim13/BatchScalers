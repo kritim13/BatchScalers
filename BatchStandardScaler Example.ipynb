{
 "cells": [
  {
   "cell_type": "code",
   "execution_count": 1,
   "metadata": {},
   "outputs": [],
   "source": [
    "from faker import Factory\n",
    "import pandas as pd\n",
    "from tqdm.notebook import tqdm\n",
    "import os\n",
    "import numpy as np\n",
    "\n",
    "from BatchScalers import BatchStandardScaler"
   ]
  },
  {
   "cell_type": "code",
   "execution_count": 2,
   "metadata": {},
   "outputs": [],
   "source": [
    "faker = Factory.create()\n",
    "def fakerecord():\n",
    "    return {'a': faker.numerify('##'),\n",
    "            'b': faker.numerify('##'),\n",
    "            'c': faker.numerify('##')}\n",
    "\n",
    "example_dummy_data = pd.DataFrame([fakerecord() for _ in range(10000)]).astype(int)\n",
    "\n",
    "example_dummy_data.to_csv('example_dummy_data.csv',index=False)"
   ]
  },
  {
   "cell_type": "code",
   "execution_count": 7,
   "metadata": {},
   "outputs": [],
   "source": [
    "#calling and fiting the batch scaler\n",
    "cust_scaler_=BatchStandardScaler(cols=['a','b','c'])\n",
    "\n",
    "path=\"C:\\\\Users\\\\kriti\\\\Desktop\\\\google_test_run\"\n",
    "fname='example_dummy_data.csv'\n",
    "cust_scaler_.fit(path,fname)"
   ]
  },
  {
   "cell_type": "code",
   "execution_count": 9,
   "metadata": {},
   "outputs": [
    {
     "data": {
      "text/plain": [
       "[49.4604, 49.7884, 49.1811]"
      ]
     },
     "execution_count": 9,
     "metadata": {},
     "output_type": "execute_result"
    }
   ],
   "source": [
    "cust_scaler_.mean_"
   ]
  },
  {
   "cell_type": "code",
   "execution_count": 10,
   "metadata": {},
   "outputs": [
    {
     "data": {
      "text/plain": [
       "[28.898149280533527, 28.915878431062673, 28.870221730876942]"
      ]
     },
     "execution_count": 10,
     "metadata": {},
     "output_type": "execute_result"
    }
   ],
   "source": [
    "cust_scaler_.sd_"
   ]
  },
  {
   "cell_type": "code",
   "execution_count": 11,
   "metadata": {},
   "outputs": [
    {
     "name": "stdout",
     "output_type": "stream",
     "text": [
      "a 49.575 28.98304981739668\n",
      "b 49.3842 28.82151728042497\n",
      "c 49.724 28.962249656933036\n"
     ]
    }
   ],
   "source": [
    "#benchmarking- mean and sd computed by standard scaler match population mean and sd\n",
    "for col in example_dummy_data.columns:\n",
    "    print(col,example_dummy_data[col].mean(),example_dummy_data[col].std())"
   ]
  },
  {
   "cell_type": "code",
   "execution_count": null,
   "metadata": {},
   "outputs": [],
   "source": []
  }
 ],
 "metadata": {
  "kernelspec": {
   "display_name": "Python 3",
   "language": "python",
   "name": "python3"
  },
  "language_info": {
   "codemirror_mode": {
    "name": "ipython",
    "version": 3
   },
   "file_extension": ".py",
   "mimetype": "text/x-python",
   "name": "python",
   "nbconvert_exporter": "python",
   "pygments_lexer": "ipython3",
   "version": "3.8.3"
  }
 },
 "nbformat": 4,
 "nbformat_minor": 4
}
